{
  "cells": [
    {
      "cell_type": "markdown",
      "metadata": {
        "id": "view-in-github",
        "colab_type": "text"
      },
      "source": [
        "<a href=\"https://colab.research.google.com/gist/crossrj/f3dbf8a5ff72b3551f7c843189e654a7/webscraping_previs-o_do_tempo.ipynb\" target=\"_parent\"><img src=\"https://colab.research.google.com/assets/colab-badge.svg\" alt=\"Open In Colab\"/></a>"
      ]
    },
    {
      "cell_type": "markdown",
      "metadata": {
        "id": "ginpJV9C0wFV"
      },
      "source": [
        "**PROJETO: WEB SCRAPING DE PREVISÃO DO TEMPO**\n",
        "\n",
        "Período: 6 dias da semana\n",
        "\n",
        "Arquivo de Exportação: CSV"
      ]
    },
    {
      "cell_type": "code",
      "execution_count": null,
      "metadata": {
        "colab": {
          "base_uri": "https://localhost:8080/"
        },
        "id": "867JIAcA1Kok",
        "outputId": "7e16a474-8598-499a-eb1c-4a03a6e88e0c"
      },
      "outputs": [
        {
          "output_type": "stream",
          "name": "stdout",
          "text": [
            "Looking in indexes: https://pypi.org/simple, https://us-python.pkg.dev/colab-wheels/public/simple/\n",
            "Requirement already satisfied: requests in /usr/local/lib/python3.7/dist-packages (2.23.0)\n",
            "Requirement already satisfied: certifi>=2017.4.17 in /usr/local/lib/python3.7/dist-packages (from requests) (2022.6.15)\n",
            "Requirement already satisfied: urllib3!=1.25.0,!=1.25.1,<1.26,>=1.21.1 in /usr/local/lib/python3.7/dist-packages (from requests) (1.24.3)\n",
            "Requirement already satisfied: chardet<4,>=3.0.2 in /usr/local/lib/python3.7/dist-packages (from requests) (3.0.4)\n",
            "Requirement already satisfied: idna<3,>=2.5 in /usr/local/lib/python3.7/dist-packages (from requests) (2.10)\n",
            "Looking in indexes: https://pypi.org/simple, https://us-python.pkg.dev/colab-wheels/public/simple/\n",
            "Requirement already satisfied: bs4 in /usr/local/lib/python3.7/dist-packages (0.0.1)\n",
            "Requirement already satisfied: beautifulsoup4 in /usr/local/lib/python3.7/dist-packages (from bs4) (4.6.3)\n",
            "Looking in indexes: https://pypi.org/simple, https://us-python.pkg.dev/colab-wheels/public/simple/\n",
            "Requirement already satisfied: pandas in /usr/local/lib/python3.7/dist-packages (1.3.5)\n",
            "Requirement already satisfied: numpy>=1.17.3 in /usr/local/lib/python3.7/dist-packages (from pandas) (1.21.6)\n",
            "Requirement already satisfied: python-dateutil>=2.7.3 in /usr/local/lib/python3.7/dist-packages (from pandas) (2.8.2)\n",
            "Requirement already satisfied: pytz>=2017.3 in /usr/local/lib/python3.7/dist-packages (from pandas) (2022.1)\n",
            "Requirement already satisfied: six>=1.5 in /usr/local/lib/python3.7/dist-packages (from python-dateutil>=2.7.3->pandas) (1.15.0)\n"
          ]
        }
      ],
      "source": [
        "#@title Instalação e importação de bibliotecas\n",
        "!pip install requests\n",
        "!pip install bs4\n",
        "!pip install pandas\n",
        "import requests\n",
        "from bs4 import BeautifulSoup\n",
        "import pandas as pd"
      ]
    },
    {
      "cell_type": "code",
      "execution_count": null,
      "metadata": {
        "colab": {
          "base_uri": "https://localhost:8080/"
        },
        "id": "lUGM6qAI4y98",
        "outputId": "7fc074dc-d32f-46ea-d8e1-83f021e8f46f"
      },
      "outputs": [
        {
          "output_type": "stream",
          "name": "stdout",
          "text": [
            "<Response [200]>\n"
          ]
        }
      ],
      "source": [
        "#@title Selecionar URL de onde os dados serão coletados, verificar resposta do site e criar a variável da página indicando o tratamento da html\n",
        "url = f'https://www.tempo.com/duque-de-caxias.htm' #criando a url com o endereço da pagina-objeto\n",
        "site = requests.get(url) # criando o site com a url\n",
        "print(site) #verificando resposta do site\n",
        "\n",
        "bs = BeautifulSoup(site.text, 'html.parser') # criando a variável e atribuindo a ela que serão coletados textos do site, informando que é um html"
      ]
    },
    {
      "cell_type": "code",
      "execution_count": null,
      "metadata": {
        "colab": {
          "base_uri": "https://localhost:8080/"
        },
        "id": "8cZ22-1G6Ycq",
        "outputId": "d93bba0f-adfc-47d5-b5e3-f7f71e20e856"
      },
      "outputs": [
        {
          "output_type": "stream",
          "name": "stdout",
          "text": [
            "['17°', '16°', '15°', '17°', '16°', '17°']\n"
          ]
        }
      ],
      "source": [
        "#@title Criar as variáveis com as informações de temperaturas mínimas que queremos extrair da página e limpa-las\n",
        "temperaturas_minimas = bs.find_all(class_=\"minima changeUnitT\")#criando a variável de temperatura mínima, inputando os dados da classe que foi selecionada\n",
        "temperaturas_minimas = str([temperaturas_minimas[i].get_text() for i in range(0, 6)]) #selecionando a o texto da variável, reduzindo os dados apenas às 6 primeiras temperaturas, que equivalem ao período do projeto (o str no início do código transforma a lista em string)\n",
        "temperaturas_minimas = temperaturas_minimas.replace(\"'\", \"\") #limpando e retirando as aspas que separam as temperaturas\n",
        "temperaturas_minimas = temperaturas_minimas.replace(\",\", \"\") #limpando e retirando as vírgulas que separam as temperaturas\n",
        "temperaturas_minimas = temperaturas_minimas.strip(\"[ ]\") #limpando e retirando as strings que estão dentro da variável e transformando novamente em lista\n",
        "temperaturas_minimas = temperaturas_minimas.split(\" \") #retirando os espaços entre os caractéres\n",
        "print(temperaturas_minimas)"
      ]
    },
    {
      "cell_type": "code",
      "execution_count": null,
      "metadata": {
        "colab": {
          "base_uri": "https://localhost:8080/"
        },
        "id": "R_g75v2HwDw4",
        "outputId": "7f9c7b0a-c01d-4463-f2b1-2b5461ea8d11"
      },
      "outputs": [
        {
          "output_type": "stream",
          "name": "stdout",
          "text": [
            "['26°', '28°', '30°', '29°', '29°', '31°']\n"
          ]
        }
      ],
      "source": [
        "#@title Criar as variáveis com as informações de temperaturas máximas que queremos extrair da página e limpa-las\n",
        "temperaturas_maximas = bs.find_all(class_=\"maxima changeUnitT\") #criando a variável de temperatura máxima, inputando os dados da classe que foi selecionada\n",
        "temperaturas_maximas = str([temperaturas_maximas[i].get_text() for i in range(0, 6)]) #selecionando a o texto da variável, reduzindo os dados apenas às 6 primeiras temperaturas, que equivalem ao período do projeto (o str no início do código transforma a lista em string)\n",
        "temperaturas_maximas = temperaturas_maximas.replace(\"'\", \"\") #limpando e retirando as aspas que separam as temperaturas\n",
        "temperaturas_maximas = temperaturas_maximas.replace(\",\", \"\") #limpando e retirando as vírgulas que separam as temperaturas\n",
        "temperaturas_maximas = temperaturas_maximas.strip(\"[ ]\") #limpando e retirando as strings que estão dentro da variável e transformando novamente em lista\n",
        "temperaturas_maximas = temperaturas_maximas.split(\" \") #retirando os espaços entre os caractéres\n",
        "print(temperaturas_maximas)"
      ]
    },
    {
      "cell_type": "code",
      "execution_count": null,
      "metadata": {
        "colab": {
          "base_uri": "https://localhost:8080/"
        },
        "id": "RzL4MMx3wmFx",
        "outputId": "9faea372-b1cb-4fb6-8261-748c4c7df180"
      },
      "outputs": [
        {
          "output_type": "stream",
          "name": "stdout",
          "text": [
            "['Hoje21', 'Amanhã22', 'Sábado23', 'Domingo24', 'Segunda25', 'Terça26']\n"
          ]
        }
      ],
      "source": [
        "#@title Criar as variáveis com as informações de datas que queremos extrair da página e limpa-las\n",
        "datas = bs.find_all(class_=\"cuando\", span_=\"\") #criando a variável de datas, inputando os dados da classe que foi selecionada\n",
        "datas = str([datas[i].get_text() for i in range(0, 6)]) #selecionando a o texto da variável, reduzindo os dados apenas às 6 primeiras datas, que equivalem ao período do projeto (o str no início do código transforma a lista em string)\n",
        "datas = datas.replace(\"'\", \"\") #limpando e retirando as aspas que separam as datas\n",
        "datas = datas.replace(\",\", \"\") #limpando e retirando as vírgulas que separam as datas\n",
        "datas = datas.replace(\".\", \"\") #limpando e retirando os pontos que separam as datas\n",
        "remove = \"Jul\" #criando variável a ser removida das strings\n",
        "datas = datas.replace(remove, '')#removendo a variável da string, retirando o termo \"Jul\"\n",
        "datas = datas.strip(\"[ ]\") #limpando e retirando as strings que estão dentro da variável\n",
        "datas = datas.split(\" \") #transformando string em array\n",
        "datas = list(filter(None,datas)) #retirando os espaços entre os caractéres\n",
        "print(datas)"
      ]
    },
    {
      "cell_type": "code",
      "source": [
        "#@title Criar um dataframe de tabela com colunas e dados de previsão do tempo trabalhados e limpos, bem como verificar se as variáveis possui os mesmos números de dados\n",
        "Dados_Previsao_tempo = pd.DataFrame(\n",
        "    data = zip(datas,temperaturas_minimas,temperaturas_maximas),\n",
        "    columns=['DIAS','TEMPERATURAS MINIMAS','TEMPERATURAS MAXIMAS']) # criando um dataframe com os dados das variáveis trabalhadas anteriormente e inserindo-os em colunas\n",
        "len(datas)==len(temperaturas_minimas)==len(temperaturas_maximas) #confirmando se os números de dados em cada variável são iguais"
      ],
      "metadata": {
        "colab": {
          "base_uri": "https://localhost:8080/"
        },
        "id": "gIYzby9K2iyF",
        "outputId": "3d161587-1792-4724-8664-41970692ff40"
      },
      "execution_count": null,
      "outputs": [
        {
          "output_type": "execute_result",
          "data": {
            "text/plain": [
              "True"
            ]
          },
          "metadata": {},
          "execution_count": 49
        }
      ]
    },
    {
      "cell_type": "code",
      "source": [
        "from pandas.core.frame import DataFrame\n",
        "#@title Imprimento o dataframe criado anteriormente, verificando se formou uma tabela ordenada conforme o esperado\n",
        "Dados_Previsao_tempo\n",
        "csv = Dados_Previsao_tempo.to_csv(index=False)"
      ],
      "metadata": {
        "id": "e-4pPnzb3EO7"
      },
      "execution_count": 56,
      "outputs": []
    },
    {
      "cell_type": "code",
      "source": [
        "#@title Criar tabela em .xlsx para exportar e abrir em excel\n",
        "Dados_Previsao_tempo.to_excel('Previsao_tempo.xlsx', index = False)"
      ],
      "metadata": {
        "id": "n9OFMZb1DUOY"
      },
      "execution_count": 58,
      "outputs": []
    }
  ],
  "metadata": {
    "accelerator": "GPU",
    "colab": {
      "collapsed_sections": [],
      "name": "WebScraping_Previsão_do_tempo.ipynb",
      "provenance": [],
      "include_colab_link": true
    },
    "gpuClass": "standard",
    "kernelspec": {
      "display_name": "Python 3",
      "name": "python3"
    },
    "language_info": {
      "name": "python"
    }
  },
  "nbformat": 4,
  "nbformat_minor": 0
}